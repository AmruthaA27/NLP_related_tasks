{
  "nbformat": 4,
  "nbformat_minor": 0,
  "metadata": {
    "colab": {
      "provenance": [],
      "authorship_tag": "ABX9TyNUcojdwpS5Y4vqoQU1Ic58",
      "include_colab_link": true
    },
    "kernelspec": {
      "name": "python3",
      "display_name": "Python 3"
    },
    "language_info": {
      "name": "python"
    }
  },
  "cells": [
    {
      "cell_type": "markdown",
      "metadata": {
        "id": "view-in-github",
        "colab_type": "text"
      },
      "source": [
        "<a href=\"https://colab.research.google.com/github/AmruthaA27/NLP_related_tasks/blob/main/Task8_NLP_SpellCheck.ipynb\" target=\"_parent\"><img src=\"https://colab.research.google.com/assets/colab-badge.svg\" alt=\"Open In Colab\"/></a>"
      ]
    },
    {
      "cell_type": "code",
      "execution_count": null,
      "metadata": {
        "id": "oRgAnwaOLYk9"
      },
      "outputs": [],
      "source": [
        "pip install textblob"
      ]
    },
    {
      "cell_type": "code",
      "source": [
        "def spellCorrect(x):\n",
        "  return x.correct()\n",
        "\n",
        "from textblob import TextBlob\n",
        "a = input()\n",
        "b = TextBlob(a)\n",
        "corrected = spellCorrect(b)\n",
        "print(\"---After correction---\")\n",
        "print(corrected)"
      ],
      "metadata": {
        "colab": {
          "base_uri": "https://localhost:8080/"
        },
        "id": "3HJxiWFCRak6",
        "outputId": "a5e3a137-2a95-47fe-fc97-23199349a84f"
      },
      "execution_count": 6,
      "outputs": [
        {
          "output_type": "stream",
          "name": "stdout",
          "text": [
            "I watche dPonniyan slevan yestrday. God it was nice. I cant find enough words to express how happy i was after watching it. i almost became tires after being over-joyed. it was a visual treat and very enggaing. I was on toes throughout. SOme reviews had said that the in parts it feels kind of dragged but at n o[oint did I feel thta. I am so looking forwarc to PS2.\n",
            "---After correction---\n",
            "I watched dPonniyan seven yesterday. God it was nice. I can find enough words to express how happy i was after watching it. i almost became tires after being over-joked. it was a visual treat and very engaging. I was on toes throughout. me reviews had said that the in parts it feels kind of dragged but at n o[joint did I feel that. I am so looking forward to PS2.\n"
          ]
        }
      ]
    },
    {
      "cell_type": "code",
      "source": [],
      "metadata": {
        "id": "XjmOBweIRk8y"
      },
      "execution_count": null,
      "outputs": []
    }
  ]
}